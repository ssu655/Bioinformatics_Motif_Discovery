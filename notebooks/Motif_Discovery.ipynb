{
 "cells": [
  {
   "cell_type": "markdown",
   "id": "49b435fa",
   "metadata": {},
   "source": [
    "This notebook demonstrates implementations of classic motif discovery algorithms in bioinformatics. Each section highlights biological problem, the algorithms that address that problem, and example runs on real or artificial genomic data.\n",
    "\n",
    "**Finding localised frequent k-mers**\n",
    "\n",
    "In genomes, there often exist short DNA words of length k (k-mers), that are unusually frequent in localized regions. For example, transcription binding sites, which are often clustered together near promoters. The following code demonstrates the search for repeated k-mers in a fixed-length window in a genome. The detailed algorithm is implemented in FindClumps method, and the E. coli genome is shown as an example. "
   ]
  },
  {
   "cell_type": "code",
   "execution_count": null,
   "id": "6c40c4b8",
   "metadata": {},
   "outputs": [],
   "source": [
    "from algorithms.Utils import read_data_file, FindClumps\n",
    "\n",
    "string_list = read_data_file(\"E_coli.txt\")\n",
    "\n",
    "Genome = string_list[0]\n",
    "k = 5 # k-mer length\n",
    "L = 500 # window length\n",
    "t = 3 # repeated times\n",
    "\n",
    "# By running FindClumps on Ecoli genome, we search for short DNA words that are unusually frequent in localized regions.\n",
    "# The problem models the detection of regulatory motifs, e.g. transcription binding site, which are often clustered together near promoters.\n",
    "Unique_Patterns = FindClumps(Genome, k, L, t)\n",
    "no_UP = len(Unique_Patterns)\n",
    "print(f\"The {no_UP} unique {k}-mers in any {L} window with frequency >= {t} are {' '.join(Unique_Patterns)} \")"
   ]
  },
  {
   "cell_type": "code",
   "execution_count": null,
   "id": "1b236ac5",
   "metadata": {},
   "outputs": [],
   "source": [
    "from algorithms.Utils import PlotSkew, MinimumSkew, FrequentWordsWithMismatchesAndRevComp\n"
   ]
  },
  {
   "cell_type": "markdown",
   "id": "f378dce5",
   "metadata": {},
   "source": []
  },
  {
   "cell_type": "code",
   "execution_count": null,
   "id": "be96e860",
   "metadata": {},
   "outputs": [],
   "source": []
  }
 ],
 "metadata": {
  "language_info": {
   "name": "python"
  }
 },
 "nbformat": 4,
 "nbformat_minor": 5
}
